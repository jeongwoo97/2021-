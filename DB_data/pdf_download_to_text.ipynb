{
 "cells": [
  {
   "cell_type": "code",
   "execution_count": 6,
   "metadata": {},
   "outputs": [],
   "source": [
    "from requests import get  # to make GET request\n",
    "\n",
    "def download(url, file_name):\n",
    "    with open(file_name, \"wb\") as file:   # open in binary mode\n",
    "        response = get(url)               # get request\n",
    "        file.write(response.content)      # write to file\n",
    "\n",
    "url = \"https://nedrug.mfds.go.kr/pbp/cmn/pdfDownload/199302973/NB\"\n",
    "file = 'pdf.text.pdf'\n",
    "download(url,file)"
   ]
  },
  {
   "cell_type": "code",
   "execution_count": 21,
   "metadata": {},
   "outputs": [],
   "source": [
    "from pdfminer.pdfinterp import PDFResourceManager, PDFPageInterpreter\n",
    "from pdfminer.converter import TextConverter\n",
    "from pdfminer.layout import LAParams\n",
    "from pdfminer.pdfpage import PDFPage\n",
    "from io import StringIO\n",
    "import re"
   ]
  },
  {
   "cell_type": "code",
   "execution_count": 22,
   "metadata": {},
   "outputs": [],
   "source": [
    "#-*- encoding:utf-8\n",
    "\n",
    "from tika import parser\n",
    "\n",
    "parsed = parser.from_file(file)\n",
    "text = parsed['content']\n",
    "lines = text.split('\\n')\n",
    "full_text = []\n",
    "for line in lines:\n",
    "    if line == '':\n",
    "        continue\n",
    "    else:\n",
    "        full_text.append(line.replace('�', ' '))"
   ]
  },
  {
   "cell_type": "code",
   "execution_count": 23,
   "metadata": {},
   "outputs": [
    {
     "data": {
      "text/plain": [
       "['사용상의주의사항',\n",
       " '1. 다음 환자에는 투여하지 말 것.',\n",
       " '비후성 심근병증 환자',\n",
       " '2. 다음 환자에는 신중히 투여할 것.',\n",
       " '1) 갑상선기능항진증 환자',\n",
       " '2) 고혈압 환자',\n",
       " '3) 심부전증, 부정맥 등 심질환 환자',\n",
       " '4) 당뇨병 환자',\n",
       " '5) 중증 신장애 환자',\n",
       " '3. 부작용',\n",
       " '1) 정신신경계 : 두통, 진전, 근경직, 졸음, 불안, 어지러움, 신경과민, 불면, 흥분, 사지마비감 등이 나타날 수 ',\n",
       " '있다.',\n",
       " '2) 순환기계 : 심계항진, 빈맥, 혈압변동, 고혈압, 부정맥 등이 나타날 수 있다.',\n",
       " '3) 과민증 : 발진, 가려움, 혈관부종, 두드러기, 기관지경련, 저혈압, 허탈 등이 나타날 수 있으므로 이러한 경',\n",
       " '우에는 투여를 중지한다.',\n",
       " '4) 기타 : ALT, AST의 상승, 전신권태감, 부종, 위장장애 등이 나타날 수 있다.',\n",
       " '4. 일반적 주의',\n",
       " '1) 과도하게 투여를 계속하는 경우 부정맥 또는 심정지를 일으킬 수 있으므로 충분히 주의한다.',\n",
       " '2) 용법•용량에 맞게 투여하여도 효과가 나타나지 않는 경우에는 이 약이 적당하지 않은 것으로 생각하고 투',\n",
       " '여를 중지한다. 특히 소아에 투여시에는 사용법을 정확히 지도하고 경과를 충분히 관찰한다.',\n",
       " '3) β -효능약에 의한 심한 혈청 K치의 저하가 보고되어 있다. 또한 이러한 혈청 K치의 저하작용은 크산틴계 2',\n",
       " '약물, 스테로이드제 및 이뇨제의 병용에 의하여 악화될 수 있으므로 중증 천식 환자의 경우에는 특히 주의한',\n",
       " '다  더욱이 저산소혈증은 혈청 K치의 저하가 심리듬에 미치는 작용을 증강시킬 수 있으므로 이러한 경우에는 .',\n",
       " '혈청 K치를 모니터하는 것이 바람직하다.',\n",
       " '5. 상호작용',\n",
       " '1) 이 약을 에피네프린, 이소프로테레놀 등의 카테콜아민류와 병용하면 부정맥 또는 심정지를 일으킬 수 있으',\n",
       " '므로 병용투여하지 않는다.',\n",
       " '2) MAO저해제나 삼환계 항우울제로 치료중인 환자에게 이 약을 투여하면 이 약의 혈관계에 대한 작용이 증',\n",
       " '강될 수 있으므로 특히 주의한다',\n",
       " '3) 이 약을 프로프라놀롤 등의 비선택적 β-차단제와 병용투여하지 않는다.',\n",
       " '4) 다량의 다른 교감신경흥분제를 투여받고 있는 환자에게 이 약을 투여시에는 주의한다.',\n",
       " '6. 임부에 대한 투여',\n",
       " '1) 동물실험(랫트)에서 임신후기에 투여한 결과 자궁근수축을 억제하여 분만지연을 일으키고 태반통과 및 모',\n",
       " '유로의 이행이 보고되어 있다.',\n",
       " '2) 임신중의 투여에 대한 안전성이 확립되어 있지 않으므로 임부 또는 임신하고 있을가능성이 있는 부인에는 ',\n",
       " '치료상의 유익성이 위험성을 상회한다고 판단되는 경우에만 투여한다. 특히 임신초기 3개월 이내에는 주의한',\n",
       " '다.',\n",
       " '7. 고령자에 대한 투여',\n",
       " '일반적으로 고령자는 생리기능이 저하되어 있으므로 감량하는 등 주의한다.',\n",
       " '8. 과량투여시의 처치',\n",
       " '이 약의 연속투여중 볼 수 있는 과량투여에 의한 증상은 보통 이 약의 투여를 중지하면 소실된다. 또한 이 약',\n",
       " '의 과량투여시의 적당한 해독제는 심장선택성 β-차단제이나 이를 기관지경련의 병력이 있는 환자에 투여시에',\n",
       " '는 특히 주의한다.',\n",
       " '9. 기타',\n",
       " '염산암브록솔의 용량이 변할 경우 드물게 알레르기성 발진이 나타나는데 일부 특이체질 환자에서는 전신성 ',\n",
       " '염산암브록솔의 용량이 변할 경우 드물게 알레르기성 발진이 나타나는데 일부 특이체질 환자에서는 전신성 ',\n",
       " '알레르기로 될 수 있다.']"
      ]
     },
     "execution_count": 23,
     "metadata": {},
     "output_type": "execute_result"
    }
   ],
   "source": [
    "full_text"
   ]
  },
  {
   "cell_type": "code",
   "execution_count": null,
   "metadata": {},
   "outputs": [],
   "source": []
  }
 ],
 "metadata": {
  "kernelspec": {
   "display_name": "Python 3",
   "language": "python",
   "name": "python3"
  },
  "language_info": {
   "codemirror_mode": {
    "name": "ipython",
    "version": 3
   },
   "file_extension": ".py",
   "mimetype": "text/x-python",
   "name": "python",
   "nbconvert_exporter": "python",
   "pygments_lexer": "ipython3",
   "version": "3.8.5"
  }
 },
 "nbformat": 4,
 "nbformat_minor": 4
}
