{
 "cells": [
  {
   "cell_type": "code",
   "execution_count": 4,
   "metadata": {
    "scrolled": true
   },
   "outputs": [
    {
     "ename": "ModuleNotFoundError",
     "evalue": "No module named 'pdfminer'",
     "output_type": "error",
     "traceback": [
      "\u001b[1;31m---------------------------------------------------------------------------\u001b[0m",
      "\u001b[1;31mModuleNotFoundError\u001b[0m                       Traceback (most recent call last)",
      "\u001b[1;32m<ipython-input-4-f541cd1da0f1>\u001b[0m in \u001b[0;36m<module>\u001b[1;34m\u001b[0m\n\u001b[0;32m      1\u001b[0m \u001b[1;32mimport\u001b[0m \u001b[0mpandas\u001b[0m \u001b[1;32mas\u001b[0m \u001b[0mpd\u001b[0m\u001b[1;33m\u001b[0m\u001b[1;33m\u001b[0m\u001b[0m\n\u001b[1;32m----> 2\u001b[1;33m \u001b[1;32mfrom\u001b[0m \u001b[0mpdfminer\u001b[0m\u001b[1;33m.\u001b[0m\u001b[0mpdfinterp\u001b[0m \u001b[1;32mimport\u001b[0m \u001b[0mPDFResourceManager\u001b[0m\u001b[1;33m,\u001b[0m \u001b[0mPDFPageInterpreter\u001b[0m\u001b[1;33m\u001b[0m\u001b[1;33m\u001b[0m\u001b[0m\n\u001b[0m\u001b[0;32m      3\u001b[0m \u001b[1;32mfrom\u001b[0m \u001b[0mpdfminer\u001b[0m\u001b[1;33m.\u001b[0m\u001b[0mconverter\u001b[0m \u001b[1;32mimport\u001b[0m \u001b[0mTextConverter\u001b[0m\u001b[1;33m\u001b[0m\u001b[1;33m\u001b[0m\u001b[0m\n\u001b[0;32m      4\u001b[0m \u001b[1;32mfrom\u001b[0m \u001b[0mpdfminer\u001b[0m\u001b[1;33m.\u001b[0m\u001b[0mlayout\u001b[0m \u001b[1;32mimport\u001b[0m \u001b[0mLAParams\u001b[0m\u001b[1;33m\u001b[0m\u001b[1;33m\u001b[0m\u001b[0m\n\u001b[0;32m      5\u001b[0m \u001b[1;32mfrom\u001b[0m \u001b[0mpdfminer\u001b[0m\u001b[1;33m.\u001b[0m\u001b[0mpdfpage\u001b[0m \u001b[1;32mimport\u001b[0m \u001b[0mPDFPage\u001b[0m\u001b[1;33m\u001b[0m\u001b[1;33m\u001b[0m\u001b[0m\n",
      "\u001b[1;31mModuleNotFoundError\u001b[0m: No module named 'pdfminer'"
     ]
    }
   ],
   "source": [
    "import pandas as pd\n",
    "from pdfminer.pdfinterp import PDFResourceManager, PDFPageInterpreter\n",
    "from pdfminer.converter import TextConverter\n",
    "from pdfminer.layout import LAParams\n",
    "from pdfminer.pdfpage import PDFPage\n",
    "from io import StringIO\n",
    "from requests import get\n",
    "from tika import parser\n",
    "import urllib.request"
   ]
  },
  {
   "cell_type": "code",
   "execution_count": null,
   "metadata": {},
   "outputs": [],
   "source": []
  },
  {
   "cell_type": "code",
   "execution_count": null,
   "metadata": {},
   "outputs": [],
   "source": [
    "def download_save_img(url, file_name):\n",
    "    urllib.request.urlretrieve(url, file_name)\n",
    "\n",
    "def download_pdf(url, file_name):\n",
    "    with open(file_name, \"wb\") as file:\n",
    "        response = get(url)\n",
    "        file.write(response.content)\n",
    "        \n",
    "def read_and_write(file_name, text_name):\n",
    "    with open(text_name, \"w\", encoding='utf8') as writer:\n",
    "        parsed = parser.from_file(file_name)\n",
    "        text = parsed['content']\n",
    "        lines = text.split('\\n')\n",
    "        full_text = []\n",
    "        for line in lines:\n",
    "            if line == '':\n",
    "                continue\n",
    "            else:\n",
    "                writer.write(line.replace('�', ' ')+'\\n')\n",
    "                \n",
    "def read_and_return(file_name):\n",
    "    parsed = parser.from_file(file_name)\n",
    "    text = parsed['content']\n",
    "    lines = text.split('\\n')\n",
    "    full_text = \"\"\n",
    "    for line in lines:\n",
    "        if line == '':\n",
    "            continue\n",
    "        else:\n",
    "            full_text+=(line.replace('�', ' ')+'\\n')\n",
    "    return full_text"
   ]
  },
  {
   "cell_type": "code",
   "execution_count": null,
   "metadata": {},
   "outputs": [],
   "source": [
    "data_detail = pd.read_excel('csv/pill_details.xls')\n",
    "data_detail = data_detail[['품목일련번호', '허가일자', '원료성분', '마약류분류', '완제원료구분', '포장단위', '보험코드', '전문일반', '총량', '취소상태',\n",
    "       '변경내용', '등록자id', '첨부문서', '제심사기간', '효능효과', '저장방법', '신약여부', '유효기간',\n",
    "       '용법용량', '첨가제명', '성상', '재심사대상', '허가및신고구분',\n",
    "       '취소일자', '표준코드', '주의사항', '주성분명']]\n",
    "\n",
    "data_list = pd.read_csv('csv/pill_list.csv')\n",
    "data_list = data_list[['품목일련번호', '품목명', '업소일련번호', '업소명', '큰제품이미지', '표시앞', '표시뒤', '의약품제형',\n",
    "       '색상앞', '색상뒤', '분할선앞', '분할선뒤', '크기장축', '크기단축', '크기두께', '이미지생성일자(약학정보원)',\n",
    "       '분류번호', '분류명', '전문일반구분', '품목허가일자', '제형코드명', '표기내용앞', '표기내용뒤', '표기이미지앞',\n",
    "       '표기이미지뒤', '표기코드앞', '표기코드뒤', '변경일자']]"
   ]
  },
  {
   "cell_type": "code",
   "execution_count": null,
   "metadata": {},
   "outputs": [],
   "source": [
    "new_Data = pd.merge(data_list, data_detail, on='품목일련번호')"
   ]
  },
  {
   "cell_type": "code",
   "execution_count": null,
   "metadata": {},
   "outputs": [],
   "source": [
    "img = '큰제품이미지'\n",
    "eff = '효능효과'\n",
    "use = '용법용량'\n",
    "war = '주의사항'"
   ]
  },
  {
   "cell_type": "code",
   "execution_count": null,
   "metadata": {
    "scrolled": true
   },
   "outputs": [],
   "source": [
    "row_num = len(new_Data.index)\n",
    "print(\"total row number:\",row_num)\n",
    "\n",
    "for idx in range(5):\n",
    "    pill_id = new_Data.loc[idx]['품목일련번호']\n",
    "    print(idx,\"Pill ID: \"+str(pill_id)+\"-\"*20)\n",
    "    pill_img = new_Data.loc[idx][img]\n",
    "    pill_eff = new_Data.loc[idx][eff]\n",
    "    pill_use = new_Data.loc[idx][use]\n",
    "    pill_war = new_Data.loc[idx][war]\n",
    "    \n",
    "    ## 큰제품이미지\n",
    "    file_name = str(pill_id)+'_img'\n",
    "    download_save_img(pill_img, 'img/'+file_name+'.jpg')\n",
    "    new_Data.iloc[idx,4] = file_name+'.jpg'\n",
    "    print(\"image Done.\")\n",
    "    \n",
    "    ## 효능효과\n",
    "    file_name = str(pill_id)+'_effect'\n",
    "    download_pdf(pill_eff, 'pdf/'+file_name+'.pdf')\n",
    "    text = read_and_return('pdf/'+file_name+'.pdf')\n",
    "    new_Data.iloc[idx,41] = text\n",
    "    print(new_Data.loc[idx][eff])\n",
    "    print(\"effect Done.\")\n",
    "    \n",
    "    ## 용법용량\n",
    "    file_name = str(pill_id)+'_usage'\n",
    "    download_pdf(pill_use, 'pdf/'+file_name+'.pdf')\n",
    "    text = read_and_return('pdf/'+file_name+'.pdf')\n",
    "    new_Data.iloc[idx,45] = text\n",
    "    print(new_Data.loc[idx][use])\n",
    "    print(\"usage Done.\")\n",
    "    \n",
    "    ## 주의사항\n",
    "    file_name = str(pill_id)+'_warning'\n",
    "    download_pdf(pill_war, 'pdf/'+file_name+'.pdf')\n",
    "    text = read_and_return('pdf/'+file_name+'.pdf')\n",
    "    new_Data.iloc[idx,52] = text\n",
    "    print(new_Data.loc[idx][war])\n",
    "    print(\"warning Done.\")"
   ]
  },
  {
   "cell_type": "code",
   "execution_count": null,
   "metadata": {},
   "outputs": [],
   "source": [
    "new_Data.to_excel(\"csv/pill_information.xlsx\")\n",
    "\n",
    "new_Data.to_csv(\"csv/pill_information.csv\", \"w\")"
   ]
  },
  {
   "cell_type": "code",
   "execution_count": null,
   "metadata": {},
   "outputs": [],
   "source": [
    "def download_save_img(url, file_name):\n",
    "    urllib.request.urlretrieve(url, file_name)"
   ]
  },
  {
   "cell_type": "code",
   "execution_count": null,
   "metadata": {},
   "outputs": [],
   "source": []
  },
  {
   "cell_type": "code",
   "execution_count": null,
   "metadata": {},
   "outputs": [],
   "source": []
  }
 ],
 "metadata": {
  "kernelspec": {
   "display_name": "Python 3",
   "language": "python",
   "name": "python3"
  },
  "language_info": {
   "codemirror_mode": {
    "name": "ipython",
    "version": 3
   },
   "file_extension": ".py",
   "mimetype": "text/x-python",
   "name": "python",
   "nbconvert_exporter": "python",
   "pygments_lexer": "ipython3",
   "version": "3.8.5"
  }
 },
 "nbformat": 4,
 "nbformat_minor": 4
}
